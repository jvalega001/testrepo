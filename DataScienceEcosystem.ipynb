{
 "cells": [
  {
   "cell_type": "markdown",
   "id": "9b29bc6c-475a-490e-b116-5849811bccc6",
   "metadata": {},
   "source": [
    "<center>\n",
    "    <img src=\"https://cf-courses-data.s3.us.cloud-object-storage.appdomain.cloud/IBMDeveloperSkillsNetwork-DS0105EN-SkillsNetwork/labs/Module2/images/SN_web_lightmode.png\" width=\"300\" alt=\"cognitiveclass.ai logo\">\n",
    "</center>\n"
   ]
  },
  {
   "cell_type": "markdown",
   "id": "b254cc88-29cf-48ac-bea7-e33f319b3fa5",
   "metadata": {},
   "source": [
    "# Data Science Tools and Ecosystem"
   ]
  },
  {
   "cell_type": "markdown",
   "id": "0624ca61-740b-457a-a98a-dceb4f67fbf3",
   "metadata": {
    "tags": []
   },
   "source": [
    "## In this notebook we will review some of the topics that we discus in this course"
   ]
  },
  {
   "cell_type": "markdown",
   "id": "535ef696-0e4f-4244-9498-e20ecc149e90",
   "metadata": {},
   "source": [
    "Objectives\n",
    "* Identify  some of the libraries used in data science and the types of functionalities a library can provide.\n",
    "* Identify the languages, tools, and data used by data scientists.\n",
    "* Cite popular open source tools used by data scientists."
   ]
  },
  {
   "cell_type": "markdown",
   "id": "d6e12d2c-77ab-41df-9ebf-fd54b125a38e",
   "metadata": {},
   "source": [
    "Some of the popular languages that Data Scientists use are: \n",
    "1. Python\n",
    "2. R \n",
    "3. Sql"
   ]
  },
  {
   "cell_type": "markdown",
   "id": "6c78a735-d8a2-44e3-81be-21a3949b84cb",
   "metadata": {},
   "source": [
    "Some of the commonly used libraries used by Data Scientists include:\n",
    "1. NumpPY\n",
    "2. Pandas\n",
    "3. Sci Py\n",
    "4. Matplotlib\n"
   ]
  },
  {
   "cell_type": "markdown",
   "id": "e9528752-db62-489a-b3c7-f81d58a83588",
   "metadata": {},
   "source": [
    " Data Science Tools | \n",
    "| ------ | \n",
    "| My sql | \n",
    "| Mongo Dp |\n",
    "| Apache Cassandra |"
   ]
  },
  {
   "cell_type": "markdown",
   "id": "1fc768f6-64cb-4f99-b6c8-3c4515dc9104",
   "metadata": {},
   "source": [
    "### Below are a few examples of evaluating arithmetic expressions in Python :"
   ]
  },
  {
   "cell_type": "markdown",
   "id": "63811f6a-6a14-4f47-8307-64331880b5c2",
   "metadata": {},
   "source": [
    "This a simple arithmetic expression to mutiply then add integers"
   ]
  },
  {
   "cell_type": "code",
   "execution_count": 34,
   "id": "1241a521-6794-4f16-90ac-4bc5d8587e40",
   "metadata": {},
   "outputs": [
    {
     "data": {
      "text/plain": [
       "17"
      ]
     },
     "execution_count": 34,
     "metadata": {},
     "output_type": "execute_result"
    }
   ],
   "source": [
    "(3*4)+5"
   ]
  },
  {
   "cell_type": "markdown",
   "id": "320055a5-4a09-461a-8c90-b47ff18e2ed4",
   "metadata": {},
   "source": [
    "This will convert 200 minutes to hours by diving by 60"
   ]
  },
  {
   "cell_type": "code",
   "execution_count": 18,
   "id": "26f8c5d3-d665-4da9-b314-ebd78ec29af7",
   "metadata": {},
   "outputs": [
    {
     "data": {
      "text/plain": [
       "3.3333333333333335"
      ]
     },
     "execution_count": 18,
     "metadata": {},
     "output_type": "execute_result"
    }
   ],
   "source": [
    "(200)/60"
   ]
  },
  {
   "cell_type": "markdown",
   "id": "8e4daf19-3079-43b4-8253-114168e9097d",
   "metadata": {},
   "source": [
    "## Author"
   ]
  },
  {
   "cell_type": "markdown",
   "id": "575d821b-650e-4fc0-a9f3-f8aa4f065b08",
   "metadata": {},
   "source": [
    "Javier Andres Valega Villalta"
   ]
  }
 ],
 "metadata": {
  "kernelspec": {
   "display_name": "Python",
   "language": "python",
   "name": "conda-env-python-py"
  },
  "language_info": {
   "codemirror_mode": {
    "name": "ipython",
    "version": 3
   },
   "file_extension": ".py",
   "mimetype": "text/x-python",
   "name": "python",
   "nbconvert_exporter": "python",
   "pygments_lexer": "ipython3",
   "version": "3.7.12"
  }
 },
 "nbformat": 4,
 "nbformat_minor": 5
}
